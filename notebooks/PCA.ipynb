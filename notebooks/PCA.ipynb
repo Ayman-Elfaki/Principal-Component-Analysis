{
 "cells": [
  {
   "cell_type": "markdown",
   "metadata": {},
   "source": [
    "# Take home Examination (Practical): Principal component Analysis, (PCA)"
   ]
  },
  {
   "cell_type": "markdown",
   "metadata": {},
   "source": [
    "## 1 - Importing all the model/libraries required"
   ]
  },
  {
   "cell_type": "code",
   "execution_count": 1,
   "metadata": {},
   "source": [
    "#!fsharp\n",
    "#r \"nuget:FsLab\""
   ],
   "outputs": []
  },
  {
   "cell_type": "code",
   "execution_count": 1,
   "metadata": {},
   "source": [
    "#!fsharp\n",
    "// for dataframe manipulation = Pandas\n",
    "open Deedle \n",
    "// for matrix calculation = numpy\n",
    "open MathNet.Numerics \n",
    "open MathNet.Numerics.LinearAlgebra\n",
    "open MathNet.Numerics.Statistics\n",
    "// for ploting = matplotlib\n",
    "open XPlot.Plotly\n",
    "// Array manipulation\n",
    "open System.Linq"
   ],
   "outputs": []
  },
  {
   "cell_type": "markdown",
   "metadata": {},
   "source": [
    "## 2 - Load and prepare the data set"
   ]
  },
  {
   "cell_type": "code",
   "execution_count": 1,
   "metadata": {},
   "source": [
    "#!fsharp\n",
    "[<Literal>]\n",
    "let DATASET_LINK = __SOURCE_DIRECTORY__ + \"/iris.data.csv\"\n",
    "\n",
    "let dataset = Frame.ReadCsv(path=DATASET_LINK)"
   ],
   "outputs": []
  },
  {
   "cell_type": "markdown",
   "metadata": {},
   "source": [
    "## 3 - Visualization via Histograms"
   ]
  },
  {
   "cell_type": "markdown",
   "metadata": {},
   "source": [
    "### Histograms For Sepal Length"
   ]
  },
  {
   "cell_type": "code",
   "execution_count": 1,
   "metadata": {},
   "source": [
    "#!fsharp\n",
    "let sepalLengthIrisSetosa = \n",
    "    dataset\n",
    "    |> Frame.groupRowsByString \"class\"\n",
    "    |> (fun v -> v.Columns.[\"sepalLength\"].[\"Iris-setosa\",*])\n",
    "    |> Series.values\n",
    "\n",
    "let sepalLengthIrisVersicolor = \n",
    "    dataset\n",
    "    |> Frame.groupRowsByString \"class\"\n",
    "    |> (fun v -> v.Columns.[\"sepalLength\"].[\"Iris-versicolor\",*])\n",
    "    |> Series.values\n",
    "\n",
    "let sepalLengthIrisVirginica = \n",
    "    dataset\n",
    "    |> Frame.groupRowsByString \"class\"\n",
    "    |> (fun v -> v.Columns.[\"sepalLength\"].[\"Iris-virginica\",*])\n",
    "    |> Series.values"
   ],
   "outputs": []
  },
  {
   "cell_type": "code",
   "execution_count": 1,
   "metadata": {},
   "source": [
    "#!fsharp\n",
    "let sepalLengthIrisSetosaTrace =\n",
    "    Histogram(\n",
    "        name = \"Iris Setosa\",\n",
    "        x = sepalLengthIrisSetosa,\n",
    "        opacity = 0.75\n",
    "    )\n",
    "\n",
    "let sepalLengthIrisVersicolorTrace =\n",
    "    Histogram(\n",
    "        name = \"Iris Versicolor\",\n",
    "        x = sepalLengthIrisVersicolor,\n",
    "        opacity = 0.75\n",
    "    )\n",
    "\n",
    "let sepalLengthIrisVirginicaTrace =\n",
    "    Histogram(\n",
    "        name = \"Iris Virginica\",\n",
    "        x = sepalLengthIrisVirginica,\n",
    "        opacity = 0.75\n",
    "    )\n",
    "\n",
    "let overlaidLayout =\n",
    "    Layout(\n",
    "        title = \"Iris Flowers - Sepal Length\",\n",
    "        barmode = \"Iris Flowers\"\n",
    "    )\n",
    "\n",
    "[sepalLengthIrisSetosaTrace;sepalLengthIrisVersicolorTrace;sepalLengthIrisVirginicaTrace]\n",
    "|> Chart.Plot\n",
    "|> Chart.WithLayout overlaidLayout\n",
    "|> Chart.WithWidth 700\n",
    "|> Chart.WithHeight 500"
   ],
   "outputs": []
  },
  {
   "cell_type": "markdown",
   "metadata": {},
   "source": [
    "### Histograms For  Sepal Width"
   ]
  },
  {
   "cell_type": "code",
   "execution_count": 1,
   "metadata": {},
   "source": [
    "#!fsharp\n",
    "let sepalWidthIrisSetosa = \n",
    "    dataset\n",
    "    |> Frame.groupRowsByString \"class\"\n",
    "    |> (fun v -> v.Columns.[\"sepalWidth\"].[\"Iris-setosa\",*])\n",
    "    |> Series.values\n",
    "\n",
    "let sepalWidthIrisVersicolor = \n",
    "    dataset\n",
    "    |> Frame.groupRowsByString \"class\"\n",
    "    |> (fun v -> v.Columns.[\"sepalWidth\"].[\"Iris-versicolor\",*])\n",
    "    |> Series.values\n",
    "\n",
    "let sepalWidthIrisVirginica = \n",
    "    dataset\n",
    "    |> Frame.groupRowsByString \"class\"\n",
    "    |> (fun v -> v.Columns.[\"sepalWidth\"].[\"Iris-virginica\",*])\n",
    "    |> Series.values"
   ],
   "outputs": []
  },
  {
   "cell_type": "code",
   "execution_count": 1,
   "metadata": {},
   "source": [
    "#!fsharp\n",
    "let sepalWidthIrisSetosaTrace =\n",
    "    Histogram(\n",
    "        name = \"Iris Setosa\",\n",
    "        x = sepalWidthIrisSetosa,\n",
    "        opacity = 0.75\n",
    "    )\n",
    "\n",
    "let sepalWidthIrisVersicolorTrace =\n",
    "    Histogram(\n",
    "        name = \"Iris Versicolor\",\n",
    "        x = sepalWidthIrisVersicolor,\n",
    "        opacity = 0.75\n",
    "    )\n",
    "\n",
    "let sepalWidthIrisVirginicaTrace =\n",
    "    Histogram(\n",
    "        name = \"Iris Virginica\",\n",
    "        x = sepalWidthIrisVirginica,\n",
    "        opacity = 0.75\n",
    "    )\n",
    "\n",
    "let overlaidLayout =\n",
    "    Layout(\n",
    "        title = \"Iris Flowers - Sepal Width\",\n",
    "        barmode = \"Iris Flowers\"\n",
    "    )\n",
    "\n",
    "[sepalWidthIrisSetosaTrace;sepalWidthIrisVersicolorTrace;sepalWidthIrisVirginicaTrace]\n",
    "|> Chart.Plot\n",
    "|> Chart.WithLayout overlaidLayout\n",
    "|> Chart.WithWidth 700\n",
    "|> Chart.WithHeight 500"
   ],
   "outputs": []
  },
  {
   "cell_type": "markdown",
   "metadata": {},
   "source": [
    "### Histograms For  Petal Length"
   ]
  },
  {
   "cell_type": "code",
   "execution_count": 1,
   "metadata": {},
   "source": [
    "#!fsharp\n",
    "let petalLengthIrisSetosa = \n",
    "    dataset\n",
    "    |> Frame.groupRowsByString \"class\"\n",
    "    |> (fun v -> v.Columns.[\"petalLength\"].[\"Iris-setosa\",*])\n",
    "    |> Series.values\n",
    "\n",
    "let petalLengthIrisVersicolor = \n",
    "    dataset\n",
    "    |> Frame.groupRowsByString \"class\"\n",
    "    |> (fun v -> v.Columns.[\"petalLength\"].[\"Iris-versicolor\",*])\n",
    "    |> Series.values\n",
    "\n",
    "let petalLengthIrisVirginica = \n",
    "    dataset\n",
    "    |> Frame.groupRowsByString \"class\"\n",
    "    |> (fun v -> v.Columns.[\"petalLength\"].[\"Iris-virginica\",*])\n",
    "    |> Series.values"
   ],
   "outputs": []
  },
  {
   "cell_type": "code",
   "execution_count": 1,
   "metadata": {},
   "source": [
    "#!fsharp\n",
    "let petalLengthIrisSetosaTrace =\n",
    "    Histogram(\n",
    "        name = \"Iris Setosa\",\n",
    "        x = petalLengthIrisSetosa,\n",
    "        opacity = 0.75\n",
    "    )\n",
    "\n",
    "let petalLengthIrisVersicolorTrace =\n",
    "    Histogram(\n",
    "        name = \"Iris Versicolor\",\n",
    "        x = petalLengthIrisVersicolor,\n",
    "        opacity = 0.75\n",
    "    )\n",
    "\n",
    "let petalLengthIrisVirginicaTrace =\n",
    "    Histogram(\n",
    "        name = \"Iris Virginica\",\n",
    "        x = petalLengthIrisVirginica,\n",
    "        opacity = 0.75\n",
    "    )\n",
    "\n",
    "let overlaidLayout =\n",
    "    Layout(\n",
    "        title = \"Iris Flowers - Petal Length\",\n",
    "        barmode = \"Iris Flowers\"\n",
    "    )\n",
    "\n",
    "[sepalWidthIrisSetosaTrace;sepalWidthIrisVersicolorTrace;sepalWidthIrisVirginicaTrace]\n",
    "|> Chart.Plot\n",
    "|> Chart.WithLayout overlaidLayout\n",
    "|> Chart.WithWidth 700\n",
    "|> Chart.WithHeight 500"
   ],
   "outputs": []
  },
  {
   "cell_type": "markdown",
   "metadata": {},
   "source": [
    "### Histograms For Petal Width "
   ]
  },
  {
   "cell_type": "code",
   "execution_count": 1,
   "metadata": {},
   "source": [
    "#!fsharp\n",
    "let petalWidthIrisSetosa = \n",
    "    dataset\n",
    "    |> Frame.groupRowsByString \"class\"\n",
    "    |> (fun v -> v.Columns.[\"petalWidth\"].[\"Iris-setosa\",*])\n",
    "    |> Series.values\n",
    "\n",
    "let petalWidthIrisVersicolor = \n",
    "    dataset\n",
    "    |> Frame.groupRowsByString \"class\"\n",
    "    |> (fun v -> v.Columns.[\"petalWidth\"].[\"Iris-versicolor\",*])\n",
    "    |> Series.values\n",
    "\n",
    "let petalWidthIrisVirginica = \n",
    "    dataset\n",
    "    |> Frame.groupRowsByString \"class\"\n",
    "    |> (fun v -> v.Columns.[\"petalWidth\"].[\"Iris-virginica\",*])\n",
    "    |> Series.values"
   ],
   "outputs": []
  },
  {
   "cell_type": "code",
   "execution_count": 1,
   "metadata": {},
   "source": [
    "#!fsharp\n",
    "let petalWidthIrisSetosaTrace = Histogram(name = \"Iris Setosa\", x = petalWidthIrisSetosa, opacity = 0.75)\n",
    "\n",
    "let petalWidthIrisVersicolorTrace = Histogram(name = \"Iris Versicolor\", x = petalWidthIrisVersicolor, opacity = 0.75)\n",
    "\n",
    "let petalWidthIrisVirginicaTrace = Histogram(name = \"Iris Virginica\", x = petalWidthIrisVirginica, opacity = 0.75)\n",
    "\n",
    "let overlaidLayout = Layout(title = \"Iris Flowers - Petal Width\")\n",
    "\n",
    "[petalWidthIrisSetosaTrace;petalWidthIrisVersicolorTrace;petalWidthIrisVirginicaTrace]\n",
    "|> Chart.Plot\n",
    "|> Chart.WithLayout overlaidLayout\n",
    "|> Chart.WithWidth 700\n",
    "|> Chart.WithHeight 500"
   ],
   "outputs": []
  },
  {
   "cell_type": "markdown",
   "metadata": {},
   "source": [
    "## 4 - Perform Standardization"
   ]
  },
  {
   "cell_type": "code",
   "execution_count": 1,
   "metadata": {},
   "source": [
    "#!fsharp\n",
    "let normalizedMatrix = \n",
    "    let (mu,std) = (dataset |> Stats.mean, dataset |> Stats.stdDev)\n",
    "    \n",
    "    dataset\n",
    "    |> Frame.dropCol \"class\"\n",
    "    |> Frame.mapRowValues (fun row -> (row.As<float>() - mu) / std)\n",
    "    |> Frame.ofRows\n",
    "    |> Frame.toArray2D \n",
    "    |> DenseMatrix.ofArray2\n",
    "    |> (fun m -> m.[*,0..3])"
   ],
   "outputs": []
  },
  {
   "cell_type": "markdown",
   "metadata": {},
   "source": [
    "## 5 - Compute the Eigenvectors and Eigenvalues"
   ]
  },
  {
   "cell_type": "markdown",
   "metadata": {},
   "source": [
    "* Function to calculate the Covariance Matrix"
   ]
  },
  {
   "cell_type": "code",
   "execution_count": 1,
   "metadata": {},
   "source": [
    "#!fsharp\n",
    "let covariance matrix = \n",
    "    let columnAverages = \n",
    "        Matrix.sumCols matrix / float matrix.RowCount\n",
    "    let centered = \n",
    "        matrix\n",
    "        |> Matrix.mapCols\n",
    "            (fun i vec -> vec - columnAverages.[i])\n",
    "    let normalizationFactor = \n",
    "        if matrix.RowCount = 1 then 1 \n",
    "        else matrix.RowCount - 1\n",
    "    centered.TransposeThisAndMultiply centered / float normalizationFactor\n",
    "    "
   ],
   "outputs": []
  },
  {
   "cell_type": "code",
   "execution_count": 1,
   "metadata": {},
   "source": [
    "#!fsharp\n",
    "let covarianceMatrix = (covariance normalizedMatrix)\n",
    "\n",
    "let eigen = covarianceMatrix.Evd()"
   ],
   "outputs": []
  },
  {
   "cell_type": "markdown",
   "metadata": {},
   "source": [
    "## 6 - Display the covariance matrix, Eigenvectors and Eigenvalues"
   ]
  },
  {
   "cell_type": "code",
   "execution_count": 1,
   "metadata": {},
   "source": [
    "#!fsharp\n",
    "printfn \"The Covariance Matrix: %O\" covarianceMatrix"
   ],
   "outputs": []
  },
  {
   "cell_type": "code",
   "execution_count": 1,
   "metadata": {},
   "source": [
    "#!fsharp\n",
    "let eigenVectors = eigen.EigenVectors\n",
    "printfn \"The Eigen Vectors: %O\" eigenVectors"
   ],
   "outputs": []
  },
  {
   "cell_type": "code",
   "execution_count": 1,
   "metadata": {},
   "source": [
    "#!fsharp\n",
    "let eigenValues = eigen.EigenValues.Real()\n",
    "printfn \"The Eigen Values: %O\" eigenValues"
   ],
   "outputs": []
  },
  {
   "cell_type": "markdown",
   "metadata": {},
   "source": [
    "## 7 - Compute the PCA of the of the scaled data"
   ]
  },
  {
   "cell_type": "code",
   "execution_count": 1,
   "metadata": {},
   "source": [
    "#!fsharp\n",
    "let variancePrecentage = eigenValues.[3] / eigenValues.Sum()\n",
    "\n",
    "variancePrecentage // eigenValues of 3 is the largest hence we will choose the associated vector"
   ],
   "outputs": []
  },
  {
   "cell_type": "code",
   "execution_count": 1,
   "metadata": {},
   "source": [
    "#!fsharp\n",
    "let newCorrdnate = \n",
    "    let pc1 = normalizedMatrix * eigenVectors.[3,*] |> Series.ofValues\n",
    "    let y = DenseVector.create pc1.ValueCount 0.0 |> Series.ofValues\n",
    "    let class' = dataset.Columns.[\"class\"].Values |> Series.ofValues\n",
    "\n",
    "    let df = Frame.ofColumns [\"PC1\" => pc1; \"Y\" => y]\n",
    "    df?class' <- class'\n",
    "    df\n",
    "\n",
    "\n",
    "newCorrdnate.Columns.Observations"
   ],
   "outputs": []
  },
  {
   "cell_type": "markdown",
   "metadata": {},
   "source": [
    "## 8 - Display the output for visualization and show the PCA components"
   ]
  },
  {
   "cell_type": "code",
   "execution_count": 1,
   "metadata": {},
   "source": [
    "#!fsharp\n",
    "let pcaIrisSetosa = \n",
    "    newCorrdnate\n",
    "    |> Frame.groupRowsByString \"class'\"\n",
    "    |> (fun v -> v.Columns.[\"PC1\"].[\"Iris-setosa\",*])\n",
    "    |> Series.values\n",
    "\n",
    "let pcaIrisVersicolor = \n",
    "    newCorrdnate\n",
    "    |> Frame.groupRowsByString \"class'\"\n",
    "    |> (fun v -> v.Columns.[\"PC1\"].[\"Iris-versicolor\",*])\n",
    "    |> Series.values\n",
    "\n",
    "let pcaIrisVirginica = \n",
    "    newCorrdnate\n",
    "    |> Frame.groupRowsByString \"class'\"\n",
    "    |> (fun v -> v.Columns.[\"PC1\"].[\"Iris-virginica\",*])\n",
    "    |> Series.values\n",
    "\n",
    "let yAxis = \n",
    "    newCorrdnate\n",
    "    |> Frame.groupRowsByString \"class'\"\n",
    "    |> (fun v -> v.Columns.[\"Y\"].[\"Iris-virginica\",*])\n",
    "    |> Series.values"
   ],
   "outputs": []
  },
  {
   "cell_type": "code",
   "execution_count": 1,
   "metadata": {},
   "source": [
    "#!fsharp\n",
    "let marker = \n",
    "    Marker (\n",
    "        size = 15\n",
    "    )\n",
    "\n",
    "let pcaIrisSetosaTrace = Scatter(name = \"Iris Setosa\",mode=\"markers\", marker = marker, x = pcaIrisSetosa,y = yAxis, opacity = 0.75)\n",
    "\n",
    "let pcaIrisVersicolorTrace = Scatter(name = \"Iris Versicolor\",mode=\"markers\", marker = marker, x = pcaIrisVersicolor,y = yAxis, opacity = 0.75)\n",
    "\n",
    "let pcaIrisVirginicaTrace = Scatter(name = \"Iris Virginica\",mode=\"markers\", marker = marker, x = pcaIrisVirginica,y = yAxis, opacity = 0.75)\n",
    "\n",
    "let overlaidLayout = Layout(title = \"Iris Flowers - Petal Width\")\n",
    "\n",
    "[pcaIrisSetosaTrace;pcaIrisVersicolorTrace;pcaIrisVirginicaTrace]\n",
    "|> Chart.Plot\n",
    "|> Chart.WithLayout overlaidLayout\n",
    "|> Chart.WithWidth 700\n",
    "|> Chart.WithHeight 500"
   ],
   "outputs": []
  }
 ],
 "metadata": {
  "kernelspec": {
   "display_name": ".NET (C#)",
   "language": "C#",
   "name": ".net-csharp"
  },
  "language_info": {
   "file_extension": ".cs",
   "mimetype": "text/x-csharp",
   "name": "C#",
   "pygments_lexer": "csharp",
   "version": "8.0"
  }
 },
 "nbformat": 4,
 "nbformat_minor": 4
}